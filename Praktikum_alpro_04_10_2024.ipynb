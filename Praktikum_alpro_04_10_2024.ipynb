{
  "nbformat": 4,
  "nbformat_minor": 0,
  "metadata": {
    "colab": {
      "provenance": [],
      "authorship_tag": "ABX9TyNBHF0y35OgvtBLNqbNkICY",
      "include_colab_link": true
    },
    "kernelspec": {
      "name": "python3",
      "display_name": "Python 3"
    },
    "language_info": {
      "name": "python"
    }
  },
  "cells": [
    {
      "cell_type": "markdown",
      "metadata": {
        "id": "view-in-github",
        "colab_type": "text"
      },
      "source": [
        "<a href=\"https://colab.research.google.com/github/Rayzennn619/Algoritma-dan-Pemrograman-Praktikum/blob/main/Praktikum_alpro_04_10_2024.ipynb\" target=\"_parent\"><img src=\"https://colab.research.google.com/assets/colab-badge.svg\" alt=\"Open In Colab\"/></a>"
      ]
    },
    {
      "cell_type": "code",
      "execution_count": null,
      "metadata": {
        "colab": {
          "base_uri": "https://localhost:8080/"
        },
        "id": "WhvtxmGOgy5T",
        "outputId": "3b15965b-c87c-4bc6-88df-cbe19e53d82a"
      },
      "outputs": [
        {
          "output_type": "stream",
          "name": "stdout",
          "text": [
            "Masukan Panjang Sisi Pertama: 3\n",
            "Masukan Panjang Sisi Kedua: 4\n",
            "Masukan Panjang Sisi Ketiga:  5\n",
            "Segitiga ini adalah Segitiga SIKU SIKU\n"
          ]
        }
      ],
      "source": [
        "sisi_1 = float(input('Masukan Panjang Sisi Pertama: '))\n",
        "sisi_2 = float(input('Masukan Panjang Sisi Kedua: '))\n",
        "sisi_3 = float(input('Masukan Panjang Sisi Ketiga:  '))\n",
        "\n",
        "if sisi_1 + sisi_2 > sisi_3 and sisi_2 + sisi_3 > sisi_1 and sisi_1 + sisi_3 > sisi_2:\n",
        "\n",
        "  if sisi_1 == sisi_2 == sisi_3:\n",
        "    print('Segitiga ini adalah Segitiga SAMA SISI')\n",
        "\n",
        "  elif sisi_1 == sisi_2 > sisi_3:\n",
        "   print('Segitiga ini adalah Segitiga SAMA KAKI')\n",
        "\n",
        "  elif sisi_1 <= sisi_2  <= sisi_3:\n",
        "    print('Segitiga ini adalah Segitiga SIKU SIKU')\n",
        "\n",
        "  else:\n",
        "    print('Segitiga ini adalah Segitiga SEMBARANG')\n",
        "else:\n",
        "  print('Segitiga ini adalah Segitiga SEMBARANG')\n",
        "\n",
        "\n"
      ]
    },
    {
      "cell_type": "code",
      "source": [
        "import math\n",
        "\n",
        "a = float(input(\"Masukkan nilai a: \"))\n",
        "b = float(input(\"Masukkan nilai b: \"))\n",
        "c = float(input(\"Masukkan nilai c: \"))\n",
        "\n",
        "def hitung_determinan(a, b, c):\n",
        "    return b**2 - 4*a*c\n",
        "\n",
        "def hitung_akar_persamaan_kuadrat(a, b, c):\n",
        "    D = hitung_determinan(a, b, c)\n",
        "\n",
        "    if D > 0:\n",
        "        akar1 = (-b + math.sqrt(D)) / (2*a)\n",
        "        akar2 = (-b - math.sqrt(D)) / (2*a)\n",
        "        return f\"Akar-akarnya adalah {akar1} dan {akar2} (real dan berbeda)\"\n",
        "    elif D == 0:\n",
        "        akar = -b / (2*a)\n",
        "        return f\"Akar-akarnya adalah {akar} (real dan kembar)\"\n",
        "    else:\n",
        "        real_part = -b / (2*a)\n",
        "        imag_part = math.sqrt(-D) / (2*a)\n",
        "        return f\"Akar-akarnya adalah {real_part}+{imag_part} dan {real_part}-{imag_part}\"\n",
        "\n",
        "print(f\"Determinan: {hitung_determinan(a, b, c)}\")\n",
        "print(hitung_akar_persamaan_kuadrat(a, b, c))"
      ],
      "metadata": {
        "colab": {
          "base_uri": "https://localhost:8080/"
        },
        "id": "-_1-f5l4NBSC",
        "outputId": "84e36324-55f7-40fb-c778-cace2bcf9e0e"
      },
      "execution_count": 3,
      "outputs": [
        {
          "output_type": "stream",
          "name": "stdout",
          "text": [
            "Masukkan nilai a: 20\n",
            "Masukkan nilai b: 30\n",
            "Masukkan nilai c: 2\n",
            "Determinan: 740.0\n",
            "Akar-akarnya adalah -0.0699264745632278 dan -1.4300735254367722 (real dan berbeda)\n"
          ]
        }
      ]
    }
  ]
}