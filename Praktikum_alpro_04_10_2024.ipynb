{
  "nbformat": 4,
  "nbformat_minor": 0,
  "metadata": {
    "colab": {
      "provenance": [],
      "authorship_tag": "ABX9TyP1iSsovddATR2sXq0J9Bfv",
      "include_colab_link": true
    },
    "kernelspec": {
      "name": "python3",
      "display_name": "Python 3"
    },
    "language_info": {
      "name": "python"
    }
  },
  "cells": [
    {
      "cell_type": "markdown",
      "metadata": {
        "id": "view-in-github",
        "colab_type": "text"
      },
      "source": [
        "<a href=\"https://colab.research.google.com/github/Rayzennn619/Algoritma-dan-Pemrograman-Praktikum/blob/main/Praktikum_alpro_04_10_2024.ipynb\" target=\"_parent\"><img src=\"https://colab.research.google.com/assets/colab-badge.svg\" alt=\"Open In Colab\"/></a>"
      ]
    },
    {
      "cell_type": "code",
      "execution_count": 28,
      "metadata": {
        "colab": {
          "base_uri": "https://localhost:8080/"
        },
        "id": "WhvtxmGOgy5T",
        "outputId": "3b15965b-c87c-4bc6-88df-cbe19e53d82a"
      },
      "outputs": [
        {
          "output_type": "stream",
          "name": "stdout",
          "text": [
            "Masukan Panjang Sisi Pertama: 3\n",
            "Masukan Panjang Sisi Kedua: 4\n",
            "Masukan Panjang Sisi Ketiga:  5\n",
            "Segitiga ini adalah Segitiga SIKU SIKU\n"
          ]
        }
      ],
      "source": [
        "sisi_1 = float(input('Masukan Panjang Sisi Pertama: '))\n",
        "sisi_2 = float(input('Masukan Panjang Sisi Kedua: '))\n",
        "sisi_3 = float(input('Masukan Panjang Sisi Ketiga:  '))\n",
        "\n",
        "if sisi_1 + sisi_2 > sisi_3 and sisi_2 + sisi_3 > sisi_1 and sisi_1 + sisi_3 > sisi_2:\n",
        "\n",
        "  if sisi_1 == sisi_2 == sisi_3:\n",
        "    print('Segitiga ini adalah Segitiga SAMA SISI')\n",
        "\n",
        "  elif sisi_1 == sisi_2 > sisi_3:\n",
        "   print('Segitiga ini adalah Segitiga SAMA KAKI')\n",
        "\n",
        "  elif sisi_1 <= sisi_2  <= sisi_3:\n",
        "    print('Segitiga ini adalah Segitiga SIKU SIKU')\n",
        "\n",
        "  else:\n",
        "    print('Segitiga ini adalah Segitiga SEMBARANG')\n",
        "else:\n",
        "  print('Segitiga ini adalah Segitiga SEMBARANG')\n",
        "\n",
        "\n"
      ]
    }
  ]
}