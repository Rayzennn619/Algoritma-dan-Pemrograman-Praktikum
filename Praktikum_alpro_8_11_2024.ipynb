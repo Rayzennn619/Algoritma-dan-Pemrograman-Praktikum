{
  "nbformat": 4,
  "nbformat_minor": 0,
  "metadata": {
    "colab": {
      "provenance": [],
      "authorship_tag": "ABX9TyM8eTMX+XaDkDYP3ympTYeT",
      "include_colab_link": true
    },
    "kernelspec": {
      "name": "python3",
      "display_name": "Python 3"
    },
    "language_info": {
      "name": "python"
    }
  },
  "cells": [
    {
      "cell_type": "markdown",
      "metadata": {
        "id": "view-in-github",
        "colab_type": "text"
      },
      "source": [
        "<a href=\"https://colab.research.google.com/github/Rayzennn619/Algoritma-dan-Pemrograman-Praktikum/blob/main/Praktikum_alpro_8_11_2024.ipynb\" target=\"_parent\"><img src=\"https://colab.research.google.com/assets/colab-badge.svg\" alt=\"Open In Colab\"/></a>"
      ]
    },
    {
      "cell_type": "code",
      "source": [
        "def bilangan_prima(bilangan):\n",
        "    if bilangan <= 1:\n",
        "        return False\n",
        "    for i in range(2, int(bilangan**0.5) +1):\n",
        "      if bilangan % i == 0:\n",
        "        return False\n",
        "    return True\n",
        "\n",
        "bilangan = int(input(\"Masukkan bilangan: \"))\n",
        "\n",
        "if bilangan_prima(bilangan):\n",
        "  print(f\"{bilangan}\",\"adalah bilangan prima.\")\n",
        "else:\n",
        "  print(f\"{bilangan} bukan bilangan prima.\")"
      ],
      "metadata": {
        "id": "Z32mWl4w44gn"
      },
      "execution_count": null,
      "outputs": []
    },
    {
      "cell_type": "code",
      "execution_count": null,
      "metadata": {
        "id": "M0J7Colw42p2"
      },
      "outputs": [],
      "source": [
        "def add_suffix(number):\n",
        "    if 10 <= number % 100 <= 20:\n",
        "        suffix = \"th\"\n",
        "    else:\n",
        "        last_digit = number % 10\n",
        "        if last_digit == 1:\n",
        "            suffix = \"st\"\n",
        "        elif last_digit == 2:\n",
        "            suffix = \"nd\"\n",
        "        elif last_digit == 3:\n",
        "            suffix = \"rd\"\n",
        "        else:\n",
        "            suffix = \"th\"\n",
        "    return f\"{number}{suffix}\"\n",
        "\n",
        "for num in [1, 2, 3, 4, 11, 13, 21, 22, 23, 101]:\n",
        "    print(f\">>{num} //input\")\n",
        "    print(f\">>{add_suffix(num)} //output\")"
      ]
    }
  ]
}