{
  "nbformat": 4,
  "nbformat_minor": 0,
  "metadata": {
    "colab": {
      "provenance": [],
      "authorship_tag": "ABX9TyOTPB+kuJRdi1x/eWWnyw0g",
      "include_colab_link": true
    },
    "kernelspec": {
      "name": "python3",
      "display_name": "Python 3"
    },
    "language_info": {
      "name": "python"
    }
  },
  "cells": [
    {
      "cell_type": "markdown",
      "metadata": {
        "id": "view-in-github",
        "colab_type": "text"
      },
      "source": [
        "<a href=\"https://colab.research.google.com/github/Rayzennn619/Algoritma-dan-Pemrograman-Praktikum/blob/main/Praktikum_Alpro_06_12_24_(2)ipynb.ipynb\" target=\"_parent\"><img src=\"https://colab.research.google.com/assets/colab-badge.svg\" alt=\"Open In Colab\"/></a>"
      ]
    },
    {
      "cell_type": "code",
      "execution_count": null,
      "metadata": {
        "colab": {
          "base_uri": "https://localhost:8080/"
        },
        "id": "FGZpBY3f8h7N",
        "outputId": "e98a6496-f71e-4b1d-ef2f-ebefd5acdc66"
      },
      "outputs": [
        {
          "output_type": "stream",
          "name": "stdout",
          "text": [
            "Masukkan data mahasiswa\n",
            "Nama: g\n",
            "NIM: h\n",
            "Jurusan: jk\n",
            "=====INFO MAHASISWA=====\n",
            "Nama: g\n",
            "NIM: h\n",
            "Jurusan: jk\n"
          ]
        }
      ],
      "source": [
        "class Mahasiswa:\n",
        "    def __init__(self, nama, nim, jurusan):\n",
        "        self.nama = nama\n",
        "        self.nim = nim\n",
        "        self.jurusan = jurusan\n",
        "\n",
        "    def tampilkan_info(self):\n",
        "        print(\"=====INFO MAHASISWA=====\")\n",
        "        print(f\"Nama: {self.nama}\")\n",
        "        print(f\"NIM: {self.nim}\")\n",
        "        print(f\"Jurusan: {self.jurusan}\")\n",
        "\n",
        "print(\"Masukkan data mahasiswa\")\n",
        "nama = input(\"Nama: \")\n",
        "nim = input(\"NIM: \")\n",
        "jurusan = input(\"Jurusan: \")\n",
        "\n",
        "Mahasiswa = Mahasiswa(nama, nim, jurusan)\n",
        "Mahasiswa.tampilkan_info()"
      ]
    }
  ]
}