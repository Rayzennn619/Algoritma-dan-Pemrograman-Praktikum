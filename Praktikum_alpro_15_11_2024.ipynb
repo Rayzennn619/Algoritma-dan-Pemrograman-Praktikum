{
  "nbformat": 4,
  "nbformat_minor": 0,
  "metadata": {
    "colab": {
      "provenance": [],
      "authorship_tag": "ABX9TyPekE0stfNG/av0K9JG6818",
      "include_colab_link": true
    },
    "kernelspec": {
      "name": "python3",
      "display_name": "Python 3"
    },
    "language_info": {
      "name": "python"
    }
  },
  "cells": [
    {
      "cell_type": "markdown",
      "metadata": {
        "id": "view-in-github",
        "colab_type": "text"
      },
      "source": [
        "<a href=\"https://colab.research.google.com/github/Rayzennn619/Algoritma-dan-Pemrograman-Praktikum/blob/main/Praktikum_alpro_15_11_2024.ipynb\" target=\"_parent\"><img src=\"https://colab.research.google.com/assets/colab-badge.svg\" alt=\"Open In Colab\"/></a>"
      ]
    },
    {
      "cell_type": "code",
      "execution_count": 4,
      "metadata": {
        "colab": {
          "base_uri": "https://localhost:8080/"
        },
        "id": "vx42Cr9q36F6",
        "outputId": "77f1c4aa-5dd1-4c7b-bcd1-7f786022d8c4"
      },
      "outputs": [
        {
          "output_type": "stream",
          "name": "stdout",
          "text": [
            "Masukkan jumlah angka: 3\n",
            "Masukkan angka ke-3: 6\n",
            "Masukkan angka ke-2: 3\n",
            "Masukkan angka ke-1: 1\n",
            "Hasil penjumlahan: 10\n"
          ]
        }
      ],
      "source": [
        "def jumlah_bilangan(n, jumlah=0):\n",
        "    if n == 0:\n",
        "        return jumlah\n",
        "    angka = int(input(f\"Masukkan angka ke-{n}: \"))\n",
        "    return jumlah_bilangan(n - 1, jumlah + angka)\n",
        "\n",
        "jumlah = int(input(\"Masukkan jumlah angka: \"))\n",
        "hasil = jumlah_bilangan(jumlah)\n",
        "print(\"Hasil penjumlahan:\", hasil)"
      ]
    },
    {
      "cell_type": "code",
      "source": [
        "def pangkat(base, exp):\n",
        "    if exp == 0:\n",
        "        return 1\n",
        "    elif exp > 0:\n",
        "        return base * pangkat(base, exp - 1)\n",
        "    else:\n",
        "        return 1 / pangkat(base, -exp)\n",
        "\n",
        "angka_awal = 2\n",
        "pangkatnya = 3\n",
        "hasil = pangkat(angka_awal, pangkatnya)\n",
        "print(f\"{angka_awal} ^ {pangkatnya} = {hasil}\")"
      ],
      "metadata": {
        "colab": {
          "base_uri": "https://localhost:8080/"
        },
        "id": "uDtVrKCt7Nb4",
        "outputId": "75960036-0874-4181-e596-d23799688b39"
      },
      "execution_count": 1,
      "outputs": [
        {
          "output_type": "stream",
          "name": "stdout",
          "text": [
            "2 ^ 3 = 8\n"
          ]
        }
      ]
    }
  ]
}