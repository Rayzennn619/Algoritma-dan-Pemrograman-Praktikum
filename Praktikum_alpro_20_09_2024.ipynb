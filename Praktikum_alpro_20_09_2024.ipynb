{
  "nbformat": 4,
  "nbformat_minor": 0,
  "metadata": {
    "colab": {
      "provenance": [],
      "authorship_tag": "ABX9TyM3ZCPGwAbeEQZB9nbQw0PR",
      "include_colab_link": true
    },
    "kernelspec": {
      "name": "python3",
      "display_name": "Python 3"
    },
    "language_info": {
      "name": "python"
    }
  },
  "cells": [
    {
      "cell_type": "markdown",
      "metadata": {
        "id": "view-in-github",
        "colab_type": "text"
      },
      "source": [
        "<a href=\"https://colab.research.google.com/github/Rayzennn619/Razan-s-Repo/blob/main/Praktikum_alpro_20_09_2024.ipynb\" target=\"_parent\"><img src=\"https://colab.research.google.com/assets/colab-badge.svg\" alt=\"Open In Colab\"/></a>"
      ]
    },
    {
      "cell_type": "code",
      "execution_count": 19,
      "metadata": {
        "colab": {
          "base_uri": "https://localhost:8080/"
        },
        "id": "1R4b8Mhscxb3",
        "outputId": "2f6de0b8-d041-48f2-d032-19b5d02331ec"
      },
      "outputs": [
        {
          "output_type": "stream",
          "name": "stdout",
          "text": [
            "MASUKAN NAMA: Tubagus Razan Habibie Al Jibran\n",
            "MASUKAN NIM: 064102400034\n",
            "MASUKAN HOBBY: Renang\n",
            "MASUKAN ALAMAT: Serpong Tangsel\n",
            "Nama Saya Tubagus Razan Habibie Al Jibran\n",
            "NIM Saya 064102400034\n",
            "Hobby Saya Renang\n",
            "Alamat Saya Serpong Tangsel\n"
          ]
        }
      ],
      "source": [
        "a =input (\"MASUKAN NAMA: \")\n",
        "b =input (\"MASUKAN NIM: \")\n",
        "c =input (\"MASUKAN HOBBY: \")\n",
        "d =input (\"MASUKAN ALAMAT: \")\n",
        "print('Nama Saya', a)\n",
        "print('NIM Saya', b)\n",
        "print('Hobby Saya', c)\n",
        "print('Alamat Saya', d)"
      ]
    }
  ]
}