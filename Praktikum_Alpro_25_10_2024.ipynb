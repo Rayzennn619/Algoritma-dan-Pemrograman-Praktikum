{
  "nbformat": 4,
  "nbformat_minor": 0,
  "metadata": {
    "colab": {
      "provenance": [],
      "authorship_tag": "ABX9TyNVWDD1M4SLdipGpwB7ZUaC",
      "include_colab_link": true
    },
    "kernelspec": {
      "name": "python3",
      "display_name": "Python 3"
    },
    "language_info": {
      "name": "python"
    }
  },
  "cells": [
    {
      "cell_type": "markdown",
      "metadata": {
        "id": "view-in-github",
        "colab_type": "text"
      },
      "source": [
        "<a href=\"https://colab.research.google.com/github/Rayzennn619/Algoritma-dan-Pemrograman-Praktikum/blob/main/Praktikum_Alpro_25_10_2024.ipynb\" target=\"_parent\"><img src=\"https://colab.research.google.com/assets/colab-badge.svg\" alt=\"Open In Colab\"/></a>"
      ]
    },
    {
      "cell_type": "code",
      "execution_count": 9,
      "metadata": {
        "colab": {
          "base_uri": "https://localhost:8080/"
        },
        "id": "Rn7m19LW1gLT",
        "outputId": "7c0b8495-683e-4373-cea3-4b52e809e037"
      },
      "outputs": [
        {
          "output_type": "stream",
          "name": "stdout",
          "text": [
            "Masukan Predikat Anda: A\n",
            "Masukan Predikat Anda: A\n",
            "Masukan Predikat Anda: \n",
            "4.0\n"
          ]
        }
      ],
      "source": [
        "mapel = 0\n",
        "nilai = 0\n",
        "\n",
        "def hitung_rata_rata(input_nilai):\n",
        "  global mapel, nilai\n",
        "\n",
        "  if input_nilai ==  \"A\":\n",
        "    mapel += 1\n",
        "    nilai += 4.00\n",
        "  elif input_nilai ==  \"A-\":\n",
        "    mapel += 1\n",
        "    nilai += 3.75\n",
        "  elif input_nilai ==  \"B+\":\n",
        "    mapel += 1\n",
        "    nilai += 3.50\n",
        "  elif input_nilai ==  \"B\":\n",
        "    mapel += 1\n",
        "    nilai += 3.00\n",
        "  elif input_nilai ==  \"B-\":\n",
        "    mapel += 1\n",
        "    nilai += 2.75\n",
        "  elif input_nilai ==  \"C+\":\n",
        "    mapel += 1\n",
        "    nilai += 2.50\n",
        "  elif input_nilai ==  \"C\":\n",
        "    mapel += 1\n",
        "    nilai += 2.00\n",
        "  elif input_nilai ==  \"C-\":\n",
        "    mapel += 1\n",
        "    nilai += 1.75\n",
        "  elif input_nilai ==  \"D\":\n",
        "    mapel += 1\n",
        "    nilai += 1.50\n",
        "  elif input_nilai ==  \"E\":\n",
        "    mapel += 1\n",
        "    nilai += 1.25\n",
        "  else:\n",
        "    hitung = nilai / float(mapel)\n",
        "    print(hitung)\n",
        "    return hitung\n",
        "\n",
        "while True:\n",
        "  input_nilai = input(\"Masukan Predikat Anda: \")\n",
        "\n",
        "  if input_nilai == \"\":\n",
        "    hitung_rata_rata(input_nilai)\n",
        "    break\n",
        "  else:\n",
        "    hitung_rata_rata(input_nilai)"
      ]
    },
    {
      "cell_type": "code",
      "source": [
        "def is_leap_year(year):\n",
        "    return year % 4 == 0 and (year % 100 != 0 or year % 400 == 0)\n",
        "\n",
        "def get_days_in_month(month, year):\n",
        "    if month == 2:\n",
        "        return 29 if is_leap_year(year) else 28\n",
        "    elif month in [1, 3, 5, 7, 8, 10, 12]:\n",
        "        return 31\n",
        "    elif month in [4, 6, 9, 11]:\n",
        "        return 30\n",
        "    else:\n",
        "        return \"Bulan tidak valid. Harap masukkan angka antara 1 dan 12.\"\n",
        "\n",
        "try:\n",
        "    month = int(input(\"Masukkan bulan (1-12): \"))\n",
        "    year = int(input(\"Masukkan tahun: \"))\n",
        "\n",
        "    days = get_days_in_month(month, year)\n",
        "    if isinstance(days, int):\n",
        "        print(f\"Jumlah hari di bulan {month} tahun {year} adalah {days} hari.\")\n",
        "    else:\n",
        "        print(days)\n",
        "except ValueError:\n",
        "    print(\"Input tidak valid. Harap masukkan angka.\")"
      ],
      "metadata": {
        "colab": {
          "base_uri": "https://localhost:8080/"
        },
        "id": "PIHPRVA541eS",
        "outputId": "f84572e9-1aed-4dcf-9b1c-58ea921d97de"
      },
      "execution_count": 10,
      "outputs": [
        {
          "output_type": "stream",
          "name": "stdout",
          "text": [
            "Masukkan bulan (1-12): 4\n",
            "Masukkan tahun: 2006\n",
            "Jumlah hari di bulan 4 tahun 2006 adalah 30 hari.\n"
          ]
        }
      ]
    }
  ]
}