{
  "nbformat": 4,
  "nbformat_minor": 0,
  "metadata": {
    "colab": {
      "provenance": [],
      "authorship_tag": "ABX9TyPEWTB9Qdqbbspjdd4vARzz",
      "include_colab_link": true
    },
    "kernelspec": {
      "name": "python3",
      "display_name": "Python 3"
    },
    "language_info": {
      "name": "python"
    }
  },
  "cells": [
    {
      "cell_type": "markdown",
      "metadata": {
        "id": "view-in-github",
        "colab_type": "text"
      },
      "source": [
        "<a href=\"https://colab.research.google.com/github/Rayzennn619/Algoritma-dan-Pemrograman-Praktikum/blob/main/Alpro_29_11_2024.ipynb\" target=\"_parent\"><img src=\"https://colab.research.google.com/assets/colab-badge.svg\" alt=\"Open In Colab\"/></a>"
      ]
    },
    {
      "cell_type": "code",
      "execution_count": 9,
      "metadata": {
        "colab": {
          "base_uri": "https://localhost:8080/"
        },
        "id": "cVOZbXSa6CHN",
        "outputId": "3efc755b-fefd-4584-85f1-64e8d45bf172"
      },
      "outputs": [
        {
          "output_type": "stream",
          "name": "stdout",
          "text": [
            "Data setelah diurutkan: [1, 2, 3, 4, 5, 6, 7, 8, 9, 10]\n",
            "Elemen 5 ditemukan pada indeks 4\n"
          ]
        }
      ],
      "source": [
        "def bubble_sort(data):\n",
        "    n = len(data)\n",
        "    for i in range(n):\n",
        "        for j in range(0, n - i - 1):\n",
        "            if data[j] > data[j + 1]:\n",
        "                data[j], data[j + 1] = data[j + 1], data[j]\n",
        "\n",
        "def cari_elemen(data, target):\n",
        "    bubble_sort(data)\n",
        "    print(\"Data setelah diurutkan:\", data)\n",
        "    return binary_search(data, target)\n",
        "\n",
        "data_list = [8, 3, 6, 2, 1, 4, 7, 5, 9, 10]\n",
        "elemen_cari = 5\n",
        "\n",
        "hasil = cari_elemen(data_list, elemen_cari)\n",
        "\n",
        "if hasil != -1:\n",
        "    print(f\"Elemen {elemen_cari} ditemukan pada indeks {hasil}\")"
      ]
    },
    {
      "cell_type": "code",
      "source": [
        "def bubble_sort(data):\n",
        "    n = len(data)\n",
        "    for i in range(n):\n",
        "        for j in range(0, n - i - 1):\n",
        "            if data[j] > data[j + 1]:\n",
        "                data[j], data[j + 1] = data[j + 1], data[j]\n",
        "\n",
        "data_list = [8, 3, 6, 2, 1, 4, 7, 5, 9, 10]\n",
        "bubble_sort(data_list)\n",
        "print(\"Data setelah diurutkan:\", data_list)"
      ],
      "metadata": {
        "colab": {
          "base_uri": "https://localhost:8080/"
        },
        "id": "W7xkHgwXlBv-",
        "outputId": "8d336296-fc92-470e-b552-1cba80c5f0c9"
      },
      "execution_count": 3,
      "outputs": [
        {
          "output_type": "stream",
          "name": "stdout",
          "text": [
            "Data setelah diurutkan: [1, 2, 3, 4, 5, 6, 7, 8, 9, 10]\n"
          ]
        }
      ]
    }
  ]
}