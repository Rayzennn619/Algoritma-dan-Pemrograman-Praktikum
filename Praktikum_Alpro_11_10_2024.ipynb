{
  "nbformat": 4,
  "nbformat_minor": 0,
  "metadata": {
    "colab": {
      "provenance": [],
      "authorship_tag": "ABX9TyMM2SQrc0L0F29zXMTzLOwN",
      "include_colab_link": true
    },
    "kernelspec": {
      "name": "python3",
      "display_name": "Python 3"
    },
    "language_info": {
      "name": "python"
    }
  },
  "cells": [
    {
      "cell_type": "markdown",
      "metadata": {
        "id": "view-in-github",
        "colab_type": "text"
      },
      "source": [
        "<a href=\"https://colab.research.google.com/github/Rayzennn619/Algoritma-dan-Pemrograman-Praktikum/blob/main/Praktikum_Alpro_11_10_2024.ipynb\" target=\"_parent\"><img src=\"https://colab.research.google.com/assets/colab-badge.svg\" alt=\"Open In Colab\"/></a>"
      ]
    },
    {
      "cell_type": "code",
      "execution_count": null,
      "metadata": {
        "colab": {
          "base_uri": "https://localhost:8080/"
        },
        "id": "IaUvRZlKkpQ5",
        "outputId": "7a633340-2f2f-496e-8537-aa77ccf1f71f"
      },
      "outputs": [
        {
          "output_type": "stream",
          "name": "stdout",
          "text": [
            "7777777\n",
            "666666\n",
            "55555\n",
            "4444\n",
            "333\n",
            "22\n",
            "1\n"
          ]
        }
      ],
      "source": [
        "for i in range(7, 0, -1):\n",
        "  print(str(i) * i)"
      ]
    },
    {
      "cell_type": "code",
      "source": [
        "def is_leap_year(year):\n",
        "    return (year % 4 == 0 and year % 100 != 0) or (year % 400 == 0)\n",
        "\n",
        "def get_days_in_month(month, year):\n",
        "\n",
        "    days_in_month = {\n",
        "        1: 31, 2: 28, 3: 31, 4: 30, 5: 31, 6: 30,\n",
        "        7: 31, 8: 31, 9: 30, 10: 31, 11: 30, 12: 31\n",
        "    }\n",
        "\n",
        "    if month == 2 and is_leap_year(year):\n",
        "        return 29\n",
        "    return days_in_month.get(month, \"Bulan tidak valid\")\n",
        "\n",
        "while True:\n",
        "    try:\n",
        "        month = int(input(\"Masukkan bulan (1-12): \"))\n",
        "        year = int(input(\"Masukkan tahun: \"))\n",
        "\n",
        "        if 1 <= month <= 12:\n",
        "            days = get_days_in_month(month, year)\n",
        "            print(f\"Jumlah hari di bulan {month} tahun {year} adalah: {days}\")\n",
        "            break\n",
        "        else:\n",
        "            print(\"Bulan harus antara 1 sampai 12. Silakan coba lagi.\")\n",
        "    except ValueError:\n",
        "        print(\"Input tidak valid. Masukkan angka yang benar.\")"
      ],
      "metadata": {
        "colab": {
          "base_uri": "https://localhost:8080/"
        },
        "id": "x2CMWO4_xZTX",
        "outputId": "83919100-7d44-4dc9-d8b8-3b795f1db735"
      },
      "execution_count": 4,
      "outputs": [
        {
          "output_type": "stream",
          "name": "stdout",
          "text": [
            "Masukkan bulan (1-12): 4\n",
            "Masukkan tahun: 2006\n",
            "Jumlah hari di bulan 4 tahun 2006 adalah: 30\n"
          ]
        }
      ]
    }
  ]
}