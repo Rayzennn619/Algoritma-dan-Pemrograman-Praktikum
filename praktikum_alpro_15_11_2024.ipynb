{
  "nbformat": 4,
  "nbformat_minor": 0,
  "metadata": {
    "colab": {
      "provenance": [],
      "authorship_tag": "ABX9TyOYLIEkQVMXVzYLQgUYvBlv",
      "include_colab_link": true
    },
    "kernelspec": {
      "name": "python3",
      "display_name": "Python 3"
    },
    "language_info": {
      "name": "python"
    }
  },
  "cells": [
    {
      "cell_type": "markdown",
      "metadata": {
        "id": "view-in-github",
        "colab_type": "text"
      },
      "source": [
        "<a href=\"https://colab.research.google.com/github/Rayzennn619/Algoritma-dan-Pemrograman-Praktikum/blob/main/praktikum_alpro_15_11_2024.ipynb\" target=\"_parent\"><img src=\"https://colab.research.google.com/assets/colab-badge.svg\" alt=\"Open In Colab\"/></a>"
      ]
    },
    {
      "cell_type": "code",
      "execution_count": null,
      "metadata": {
        "colab": {
          "base_uri": "https://localhost:8080/"
        },
        "id": "vx42Cr9q36F6",
        "outputId": "77f1c4aa-5dd1-4c7b-bcd1-7f786022d8c4"
      },
      "outputs": [
        {
          "output_type": "stream",
          "name": "stdout",
          "text": [
            "Masukkan jumlah angka: 3\n",
            "Masukkan angka ke-3: 6\n",
            "Masukkan angka ke-2: 3\n",
            "Masukkan angka ke-1: 1\n",
            "Hasil penjumlahan: 10\n"
          ]
        }
      ],
      "source": [
        "def jumlah_bilangan(n, jumlah=0):\n",
        "    if n == 0:\n",
        "        return jumlah\n",
        "    angka = int(input(f\"Masukkan angka ke-{n}: \"))\n",
        "    return jumlah_bilangan(n - 1, jumlah + angka)\n",
        "\n",
        "jumlah = int(input(\"Masukkan jumlah angka: \"))\n",
        "hasil = jumlah_bilangan(jumlah)\n",
        "print(\"Hasil penjumlahan:\", hasil)"
      ]
    },
    {
      "cell_type": "code",
      "source": [
        "def pangkat(base, exp):\n",
        "    if exp == 0:\n",
        "        return 1\n",
        "    elif exp > 0:\n",
        "        return base * pangkat(base, exp - 1)\n",
        "    else:\n",
        "        return 1 / pangkat(base, -exp)\n",
        "\n",
        "angka_awal = 2\n",
        "pangkatnya = 3\n",
        "hasil = pangkat(angka_awal, pangkatnya)\n",
        "print(f\"{angka_awal} ^ {pangkatnya} = {hasil}\")"
      ],
      "metadata": {
        "colab": {
          "base_uri": "https://localhost:8080/"
        },
        "id": "uDtVrKCt7Nb4",
        "outputId": "75960036-0874-4181-e596-d23799688b39"
      },
      "execution_count": null,
      "outputs": [
        {
          "output_type": "stream",
          "name": "stdout",
          "text": [
            "2 ^ 3 = 8\n"
          ]
        }
      ]
    },
    {
      "cell_type": "code",
      "source": [
        "def hex_to_dec(hex_string, idx=0, result=0):\n",
        "    if idx == 0:  #\n",
        "        hex_string = hex_string.strip().lower()\n",
        "        if not all(c in \"0123456789abcdef\" for c in hex_string):\n",
        "            raise ValueError(\"Input hexadecimal tidak valid.\")\n",
        "\n",
        "    if idx == len(hex_string):\n",
        "        return result\n",
        "\n",
        "    char = hex_string[idx]\n",
        "    digit = int(char, 16)\n",
        "    return hex_to_dec(hex_string, idx + 1, result * 16 + digit)\n",
        "\n",
        "\n",
        "def dec_to_hex(decimal, result=\"\"):\n",
        "    if not isinstance(decimal, int) or decimal < 0:\n",
        "        raise ValueError(\"Input decimal harus berupa integer non-negatif.\")\n",
        "\n",
        "    if decimal == 0 and result == \"\":\n",
        "        return \"0\"\n",
        "\n",
        "    if decimal == 0:\n",
        "        return result[::-1]\n",
        "\n",
        "    hex_chars = \"0123456789abcdef\"\n",
        "    remainder = decimal % 16\n",
        "    return dec_to_hex(decimal // 16, result + hex_chars[remainder])\n",
        "\n",
        "\n",
        "try:\n",
        "    hex_value = \"1FA4\"\n",
        "    decimal_value = hex_to_dec(hex_value)\n",
        "    print(f\"Hexadecimal {hex_value} ke Decimal: {decimal_value}\")\n",
        "\n",
        "    decimal_value = 6719\n",
        "    hex_value = dec_to_hex(decimal_value)\n",
        "    print(f\"Decimal {decimal_value} ke Hexadecimal: {hex_value}\")\n",
        "except ValueError as e:\n",
        "    print(e)"
      ],
      "metadata": {
        "colab": {
          "base_uri": "https://localhost:8080/"
        },
        "id": "J-b0vRTiSlOw",
        "outputId": "34f23356-940f-4196-be1b-e628b0897adb"
      },
      "execution_count": null,
      "outputs": [
        {
          "output_type": "stream",
          "name": "stdout",
          "text": [
            "Hexadecimal 1FA4 ke Decimal: 8100\n",
            "Decimal 6719 ke Hexadecimal: 1a3f\n"
          ]
        }
      ]
    }
  ]
}