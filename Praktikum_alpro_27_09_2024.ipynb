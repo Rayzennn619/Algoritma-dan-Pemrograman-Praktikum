{
  "nbformat": 4,
  "nbformat_minor": 0,
  "metadata": {
    "colab": {
      "provenance": [],
      "authorship_tag": "ABX9TyO7//ASO377rDvnYlrMDPcB",
      "include_colab_link": true
    },
    "kernelspec": {
      "name": "python3",
      "display_name": "Python 3"
    },
    "language_info": {
      "name": "python"
    }
  },
  "cells": [
    {
      "cell_type": "markdown",
      "metadata": {
        "id": "view-in-github",
        "colab_type": "text"
      },
      "source": [
        "<a href=\"https://colab.research.google.com/github/Rayzennn619/Razan-s-Repo/blob/main/Praktikum_alpro_27_09_2024.ipynb\" target=\"_parent\"><img src=\"https://colab.research.google.com/assets/colab-badge.svg\" alt=\"Open In Colab\"/></a>"
      ]
    },
    {
      "cell_type": "code",
      "execution_count": 8,
      "metadata": {
        "colab": {
          "base_uri": "https://localhost:8080/"
        },
        "id": "k_L_5f0Eeedm",
        "outputId": "4c3f58df-cc94-4fd9-c990-9a86d34fd926"
      },
      "outputs": [
        {
          "output_type": "stream",
          "name": "stdout",
          "text": [
            "Masukkan bilangan  a: 20\n",
            "Masukkan bilangan  b: 2\n",
            "Jumlah a dan b: 22\n",
            "Selisih antara b dengan a: -18\n",
            "Hasil kali a dan b: 40\n",
            "Sisa pembagian a dengan b: 0\n",
            "Pembagian a dengan b: 10.0\n",
            "Hasil dari log(a): 2.995732273553991\n",
            "a pangkat b: 400\n"
          ]
        }
      ],
      "source": [
        "a = int(input(\"Masukkan bilangan  a: \"))\n",
        "b = int(input(\"Masukkan bilangan  b: \"))\n",
        "\n",
        "import math\n",
        "jumlah = a + b\n",
        "selisih = b - a\n",
        "perkalian = a * b\n",
        "sisa_bagi = a % b\n",
        "pembagian = a / b\n",
        "log_a = math.log(a)\n",
        "pangkat = a ** b\n",
        "\n",
        "print(f\"Jumlah a dan b: {jumlah}\")\n",
        "print(f\"Selisih antara b dengan a: {selisih}\")\n",
        "print(f\"Hasil kali a dan b: {perkalian}\")\n",
        "print(f\"Sisa pembagian a dengan b: {sisa_bagi}\")\n",
        "print(f\"Pembagian a dengan b: {pembagian}\")\n",
        "print(f\"Hasil dari log(a): {log_a}\")\n",
        "print(f\"a pangkat b: {pangkat}\")"
      ]
    },
    {
      "cell_type": "code",
      "source": [
        "Satuan = str(input('Masukan Satuan: '))\n",
        "titik_awal = int(input('Masukan Titik awal: '))\n",
        "titik_akhir = int(input('Masukan Titik akhir: '))\n",
        "\n",
        "import math\n",
        "jarak = math.sqrt((titik_akhir - titik_awal) ** 2)\n",
        "\n",
        "print(f\"Jarak antara titik awal dan titik akhir: {jarak} {Satuan}\")"
      ],
      "metadata": {
        "colab": {
          "base_uri": "https://localhost:8080/"
        },
        "id": "SgyqVyFlvEc4",
        "outputId": "b669cfa6-d4e1-4d70-a0ec-c4f84c58a004"
      },
      "execution_count": 6,
      "outputs": [
        {
          "output_type": "stream",
          "name": "stdout",
          "text": [
            "Masukan Satuan: KM\n",
            "Masukan Titik awal: 20\n",
            "Masukan Titik akhir: 40\n",
            "Jarak antara titik awal dan titik akhir: 20.0 KM\n"
          ]
        }
      ]
    }
  ]
}