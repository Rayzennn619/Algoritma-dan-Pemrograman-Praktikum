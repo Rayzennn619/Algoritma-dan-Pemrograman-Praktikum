{
  "nbformat": 4,
  "nbformat_minor": 0,
  "metadata": {
    "colab": {
      "provenance": [],
      "authorship_tag": "ABX9TyO6T1QkHIyWodyacbmDE8yf",
      "include_colab_link": true
    },
    "kernelspec": {
      "name": "python3",
      "display_name": "Python 3"
    },
    "language_info": {
      "name": "python"
    }
  },
  "cells": [
    {
      "cell_type": "markdown",
      "metadata": {
        "id": "view-in-github",
        "colab_type": "text"
      },
      "source": [
        "<a href=\"https://colab.research.google.com/github/Rayzennn619/Algoritma-dan-Pemrograman-Praktikum/blob/main/praktikum_alpro_18_10_2024.ipynb\" target=\"_parent\"><img src=\"https://colab.research.google.com/assets/colab-badge.svg\" alt=\"Open In Colab\"/></a>"
      ]
    },
    {
      "cell_type": "code",
      "execution_count": null,
      "metadata": {
        "colab": {
          "base_uri": "https://localhost:8080/"
        },
        "id": "C-dU--W1lxmA",
        "outputId": "b93b6ca9-84ab-4398-8cd0-a76ae238bab1"
      },
      "outputs": [
        {
          "output_type": "stream",
          "name": "stdout",
          "text": [
            "Masukan Predikat Anda: A\n",
            "Masukan Predikat Anda: B\n",
            "Masukan Predikat Anda: \n",
            "3.5\n"
          ]
        }
      ],
      "source": [
        "mapel = 0\n",
        "nilai = 0\n",
        "\n",
        "while True:\n",
        "  input_nilai = input(\"Masukan Predikat Anda: \")\n",
        "\n",
        "  if input_nilai ==  \"A\":\n",
        "    mapel += 1\n",
        "    nilai += 4.00\n",
        "    continue\n",
        "  elif input_nilai ==  \"A-\":\n",
        "    mapel += 1\n",
        "    nilai += 3.75\n",
        "    continue\n",
        "  elif input_nilai ==  \"B+\":\n",
        "    mapel += 1\n",
        "    nilai += 3.50\n",
        "    continue\n",
        "  elif input_nilai ==  \"B\":\n",
        "    mapel += 1\n",
        "    nilai += 3.00\n",
        "    continue\n",
        "  elif input_nilai ==  \"B-\":\n",
        "    mapel += 1\n",
        "    nilai += 2.75\n",
        "    continue\n",
        "  elif input_nilai ==  \"C+\":\n",
        "    mapel += 1\n",
        "    nilai += 2.50\n",
        "    continue\n",
        "  elif input_nilai ==  \"C\":\n",
        "    mapel += 1\n",
        "    nilai += 2.00\n",
        "    continue\n",
        "  elif input_nilai ==  \"C-\":\n",
        "    mapel += 1\n",
        "    nilai += 1.75\n",
        "    continue\n",
        "  elif input_nilai ==  \"D\":\n",
        "    mapel += 1\n",
        "    nilai += 1.50\n",
        "    continue\n",
        "  elif input_nilai ==  \"E\":\n",
        "    mapel += 1\n",
        "    nilai += 1.25\n",
        "    continue\n",
        "  else:\n",
        "    hitung = nilai / float(mapel)\n",
        "    print(hitung)\n",
        "    break\n"
      ]
    },
    {
      "cell_type": "code",
      "source": [
        "def hitung_harga_tiket(umur):\n",
        "    if umur <= 2:\n",
        "        return 0\n",
        "    elif 3 <= umur <= 12:\n",
        "        return 14\n",
        "    elif umur >= 65:\n",
        "        return 18\n",
        "    else:\n",
        "        return 23\n",
        "\n",
        "total_biaya = 0\n",
        "\n",
        "while True:\n",
        "    try:\n",
        "        umur = int(input(\"Masukkan umur pengunjung (atau ketik -1 untuk berhenti): \"))\n",
        "        if umur == -1:\n",
        "            break\n",
        "\n",
        "        biaya_tiket = hitung_harga_tiket(umur)\n",
        "        total_biaya += biaya_tiket\n",
        "\n",
        "        print(f\"Harga tiket untuk umur {umur} tahun adalah: ${biaya_tiket}\")\n",
        "\n",
        "    except ValueError:\n",
        "        print(\"Masukkan angka yang valid untuk umur.\")\n",
        "\n",
        "print(f\"\\nTotal biaya keseluruhan tiket: ${total_biaya}\")\n",
        "\n",
        "\n",
        "while True:\n",
        "    try:\n",
        "        uang_bayar = float(input(\"Masukkan jumlah uang yang dibayarkan: \"))\n",
        "\n",
        "        if uang_bayar < total_biaya:\n",
        "            print(\"Uang yang dibayarkan kurang. Silakan masukkan jumlah yang cukup.\")\n",
        "        else:\n",
        "            kembalian = uang_bayar - total_biaya\n",
        "            print(f\"Uang yang dibayarkan: ${uang_bayar}\")\n",
        "            print(f\"Kembalian: ${kembalian}\")\n",
        "            break\n",
        "    except ValueError:\n",
        "        print(\"Masukkan angka yang valid untuk jumlah uang.\")"
      ],
      "metadata": {
        "id": "GtCMujTSh2Nc"
      },
      "execution_count": null,
      "outputs": []
    }
  ]
}